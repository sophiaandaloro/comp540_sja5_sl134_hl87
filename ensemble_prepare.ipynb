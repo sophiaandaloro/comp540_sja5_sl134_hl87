{
 "cells": [
  {
   "cell_type": "markdown",
   "metadata": {},
   "source": [
    "# Making prediction of models for ensemble\n",
    "--Sophia Andaloro, Shixiao Liang, Hongyi Liu (Apr 2020)\n",
    "\n",
    "Prepared by Shixiao Liang\n",
    "\n",
    "This notebook load up trained models from ./models and make prediction on validation set and test set and then save them for ensemble. We ran different cells in this notebook for different models because we reset our GPU and load another model by restarting the Python kernel. As a result this notebook cannot produce all the file within one run.\n",
    "\n",
    "We loaded up 4 models and make predictions on validation set images and test set images. Predictions were made with both original image and augmented image (Zoom range (0.9,1,1) and random horizontal filp)."
   ]
  },
  {
   "cell_type": "markdown",
   "metadata": {},
   "source": [
    "## Import packages and read info of validation set and test set"
   ]
  },
  {
   "cell_type": "code",
   "execution_count": 21,
   "metadata": {},
   "outputs": [],
   "source": [
    "import os\n",
    "os.environ[\"CUDA_DEVICE_ORDER\"]=\"PCI_BUS_ID\"\n",
    "os.environ[\"CUDA_VISIBLE_DEVICES\"]=\"0\" #model will be trained on GPU 1"
   ]
  },
  {
   "cell_type": "code",
   "execution_count": 22,
   "metadata": {},
   "outputs": [],
   "source": [
    "import matplotlib.pyplot as plt\n",
    "import matplotlib.image as img\n",
    "import numpy as np\n",
    "# from scipy.misc import imresize\n",
    "import matplotlib.image as mpimg\n",
    "%matplotlib inline\n",
    "\n",
    "import os\n",
    "from os import listdir\n",
    "from os.path import isfile, join\n",
    "import shutil\n",
    "import stat\n",
    "import collections\n",
    "from collections import defaultdict\n",
    "\n",
    "from ipywidgets import interact, interactive, fixed\n",
    "import ipywidgets as widgets\n",
    "\n",
    "import h5py\n",
    "from sklearn.model_selection import train_test_split\n",
    "from sklearn import model_selection\n",
    "from keras.utils.np_utils import to_categorical\n",
    "from keras.applications.inception_v3 import preprocess_input\n",
    "from keras.models import load_model\n",
    "from keras.callbacks import ModelCheckpoint"
   ]
  },
  {
   "cell_type": "code",
   "execution_count": 23,
   "metadata": {},
   "outputs": [],
   "source": [
    "# Ignore  the warnings\n",
    "import warnings\n",
    "# warnings.filterwarnings('always')\n",
    "# warnings.filterwarnings('ignore')\n",
    "\n",
    "# data visualisation and manipulation\n",
    "import numpy as np\n",
    "import pandas as pd\n",
    "# from matplotlib import style\n",
    "# import seaborn as sns\n",
    "\n",
    "# style.use('fivethirtyeight')\n",
    "# sns.set(style='whitegrid',color_codes=True)\n",
    "\n",
    "import os                    \n",
    "from PIL import Image\n",
    "from sklearn.utils import shuffle\n",
    "import sklearn as sklearn"
   ]
  },
  {
   "cell_type": "code",
   "execution_count": 24,
   "metadata": {},
   "outputs": [],
   "source": [
    "import keras\n",
    "from keras.models import Sequential\n",
    "from keras.layers import Dense\n",
    "import keras.layers as layers\n",
    "import keras.preprocessing as pp"
   ]
  },
  {
   "cell_type": "code",
   "execution_count": 26,
   "metadata": {},
   "outputs": [],
   "source": [
    "# from keras.applications.resnet50 import ResNet50\n",
    "from keras.preprocessing import image\n",
    "from keras.applications.resnet50 import preprocess_input, decode_predictions\n"
   ]
  },
  {
   "cell_type": "code",
   "execution_count": 27,
   "metadata": {},
   "outputs": [],
   "source": [
    "n_classes =251"
   ]
  },
  {
   "cell_type": "code",
   "execution_count": 28,
   "metadata": {},
   "outputs": [],
   "source": [
    "train_dir = './input/train_set/'\n",
    "val_dir = './input/val_set/'\n",
    "train_df = pd.read_csv('./input/train_labels.csv')\n",
    "train_df['path'] = train_df['img_name'].map(lambda x: os.path.join(train_dir,x))\n",
    "val_df = pd.read_csv('./input/val_labels.csv')\n",
    "val_df['path'] = val_df['img_name'].map(lambda x: os.path.join(val_dir,x))\n",
    "val_df['label'] = val_df['label'].astype(str)\n",
    "train_df['label'] = train_df['label'].astype(str)"
   ]
  },
  {
   "cell_type": "code",
   "execution_count": null,
   "metadata": {},
   "outputs": [],
   "source": [
    "# df must be sorted to the same order as the output of keras image generator\n",
    "val = val_df.sort_values('img_name').drop('path', axis=1)\n",
    "\n",
    "new_val_index = np.arange(val_df.shape[0])\n",
    "\n",
    "val.head()"
   ]
  },
  {
   "cell_type": "code",
   "execution_count": 31,
   "metadata": {},
   "outputs": [
    {
     "data": {
      "text/html": [
       "<div>\n",
       "<style scoped>\n",
       "    .dataframe tbody tr th:only-of-type {\n",
       "        vertical-align: middle;\n",
       "    }\n",
       "\n",
       "    .dataframe tbody tr th {\n",
       "        vertical-align: top;\n",
       "    }\n",
       "\n",
       "    .dataframe thead th {\n",
       "        text-align: right;\n",
       "    }\n",
       "</style>\n",
       "<table border=\"1\" class=\"dataframe\">\n",
       "  <thead>\n",
       "    <tr style=\"text-align: right;\">\n",
       "      <th></th>\n",
       "      <th>img_name</th>\n",
       "    </tr>\n",
       "  </thead>\n",
       "  <tbody>\n",
       "    <tr>\n",
       "      <th>4308</th>\n",
       "      <td>test_000000.jpg</td>\n",
       "    </tr>\n",
       "    <tr>\n",
       "      <th>4309</th>\n",
       "      <td>test_000001.jpg</td>\n",
       "    </tr>\n",
       "    <tr>\n",
       "      <th>4310</th>\n",
       "      <td>test_000002.jpg</td>\n",
       "    </tr>\n",
       "    <tr>\n",
       "      <th>4311</th>\n",
       "      <td>test_000003.jpg</td>\n",
       "    </tr>\n",
       "    <tr>\n",
       "      <th>4312</th>\n",
       "      <td>test_000004.jpg</td>\n",
       "    </tr>\n",
       "  </tbody>\n",
       "</table>\n",
       "</div>"
      ],
      "text/plain": [
       "             img_name\n",
       "4308  test_000000.jpg\n",
       "4309  test_000001.jpg\n",
       "4310  test_000002.jpg\n",
       "4311  test_000003.jpg\n",
       "4312  test_000004.jpg"
      ]
     },
     "execution_count": 31,
     "metadata": {},
     "output_type": "execute_result"
    }
   ],
   "source": [
    "test_dir = './input/test_set/'\n",
    "test_df = pd.read_csv('./input/test_info.csv', header=0,)\n",
    "\n",
    "new_row = pd.DataFrame({'test_024088.jpg': 'test_024088.jpg'}, index=[0])\n",
    "test_df = pd.concat([new_row, test_df]).reset_index(drop = True) \n",
    "test_df.columns = ['img_name']\n",
    "# df must be sorted to the same order as the output of keras image generator\n",
    "test = test_df.sort_values('img_name')\n",
    "test.head()"
   ]
  },
  {
   "cell_type": "code",
   "execution_count": 32,
   "metadata": {},
   "outputs": [],
   "source": [
    "from keras.preprocessing.image import ImageDataGenerator\n"
   ]
  },
  {
   "cell_type": "markdown",
   "metadata": {},
   "source": [
    "## Making prediction of 256_irv2 model\n",
    "This model has different output shape. As a result it produces prediction different from the other IRv2 models."
   ]
  },
  {
   "cell_type": "code",
   "execution_count": 33,
   "metadata": {},
   "outputs": [
    {
     "name": "stdout",
     "output_type": "stream",
     "text": [
      "Found 11994 validated image filenames belonging to 251 classes.\n",
      "Found 118475 validated image filenames belonging to 251 classes.\n",
      "Found 28377 validated image filenames.\n"
     ]
    }
   ],
   "source": [
    "test_datagen = ImageDataGenerator(\n",
    "    rescale=1/255.,\n",
    "    zoom_range = 0.1,      # augmentation\n",
    "    horizontal_flip = True)# disable to make prediction on original image\n",
    "\n",
    "val_generator = test_datagen.flow_from_dataframe(\n",
    "    dataframe=val,#sorted\n",
    "    directory=\"./input/val_set/\",\n",
    "    x_col=\"img_name\",\n",
    "    y_col=\"label\",\n",
    "    batch_size=32,\n",
    "    shuffle=False,\n",
    "    class_mode=\"categorical\",\n",
    "    target_size=(256,256))\n",
    "\n",
    "\n",
    "test_generator = test_datagen.flow_from_dataframe(\n",
    "    dataframe=test,#sorted\n",
    "    directory=\"./input/test_set/\",\n",
    "    x_col=\"img_name\",\n",
    "#     y_col=\"label\",\n",
    "    batch_size=32,\n",
    "    shuffle=False,\n",
    "    class_mode=None,\n",
    "    target_size=(256,256))"
   ]
  },
  {
   "cell_type": "code",
   "execution_count": 14,
   "metadata": {},
   "outputs": [],
   "source": [
    "model_test = load_model('./models/256_irv2_419__reg5.0e-04_lr5.0e-03_do0.40-11-0.69.hdf5')"
   ]
  },
  {
   "cell_type": "code",
   "execution_count": 15,
   "metadata": {},
   "outputs": [],
   "source": [
    "# Get indices for mapping labels generated by image generator to the original label\n",
    "key_list = list(train_generator.class_indices.keys())\n",
    "val_list = list(train_generator.class_indices.values())"
   ]
  },
  {
   "cell_type": "code",
   "execution_count": 16,
   "metadata": {},
   "outputs": [
    {
     "name": "stdout",
     "output_type": "stream",
     "text": [
      "375/375 [==============================] - 138s 368ms/step\n"
     ]
    }
   ],
   "source": [
    "irv256_val_pred = model_test.predict_generator(val_generator, verbose=1, workers=1, use_multiprocessing=False)"
   ]
  },
  {
   "cell_type": "code",
   "execution_count": 17,
   "metadata": {},
   "outputs": [],
   "source": [
    "irv256_val_pred_mapped = np.zeros((irv256_val_pred.shape))\n",
    "for key, val in zip(key_list,val_list):\n",
    "    irv256_val_pred_mapped[:,int(key)] = irv256_val_pred[:,val]\n",
    "    \n",
    "# np.save('./predictions/irv256_val_pred_mapped_aug', irv256_val_pred_mapped)"
   ]
  },
  {
   "cell_type": "code",
   "execution_count": 18,
   "metadata": {},
   "outputs": [
    {
     "name": "stdout",
     "output_type": "stream",
     "text": [
      "887/887 [==============================] - 305s 344ms/step\n"
     ]
    }
   ],
   "source": [
    "irv256_test_pred = model_test.predict_generator(test_generator, verbose=1, workers=1, use_multiprocessing=False)"
   ]
  },
  {
   "cell_type": "code",
   "execution_count": 19,
   "metadata": {},
   "outputs": [],
   "source": [
    "irv256_test_pred_mapped = np.zeros((irv256_test_pred.shape))\n",
    "for key, val in zip(key_list,val_list):\n",
    "    irv256_test_pred_mapped[:,int(key)] = irv256_test_pred[:,val]\n",
    "    \n",
    "# np.save('./predictions/irv256_test_pred_mapped_aug', irv256_test_pred_mapped)"
   ]
  },
  {
   "cell_type": "markdown",
   "metadata": {},
   "source": [
    "## Making prediction of other IRv2 models\n",
    "These models have the same input shape (299,299) thus can share the some generator"
   ]
  },
  {
   "cell_type": "code",
   "execution_count": 34,
   "metadata": {},
   "outputs": [
    {
     "name": "stdout",
     "output_type": "stream",
     "text": [
      "Found 11994 validated image filenames belonging to 251 classes.\n",
      "Found 118475 validated image filenames belonging to 251 classes.\n",
      "Found 28377 validated image filenames.\n"
     ]
    }
   ],
   "source": [
    "test_datagen = ImageDataGenerator(\n",
    "    rescale=1/255.)\n",
    "\n",
    "val_generator = test_datagen.flow_from_dataframe(\n",
    "    dataframe=val,#sorted\n",
    "    directory=\"./input/val_set/\",\n",
    "    x_col=\"img_name\",\n",
    "    y_col=\"label\",\n",
    "    batch_size=32,\n",
    "    shuffle=False,\n",
    "    class_mode=\"categorical\",\n",
    "    target_size=(299,299))\n",
    "\n",
    "test_generator = test_datagen.flow_from_dataframe(\n",
    "    dataframe=test,#sorted\n",
    "    directory=\"./input/test_set/\",\n",
    "    x_col=\"img_name\",\n",
    "#     y_col=\"label\",\n",
    "    batch_size=32,\n",
    "    shuffle=False,\n",
    "    class_mode=None,\n",
    "    target_size=(299,299))"
   ]
  },
  {
   "cell_type": "code",
   "execution_count": 14,
   "metadata": {},
   "outputs": [],
   "source": [
    "model_test = load_model('./models/424_lasttry_2_reg5.0e-04_lr1.0e-03_do0.30-101-0.71.hdf5')\n",
    "\n",
    "#The other two model:\n",
    "\n",
    "#299_irv2_419__reg5.0e-04_lr3.0e-03_do0.40-09-0.71.hdf5\n",
    "#423_irv28by8_quiet_reg1.0e-05_lr4.0e-03_do0.40-14-0.69.hdf5"
   ]
  },
  {
   "cell_type": "code",
   "execution_count": 35,
   "metadata": {},
   "outputs": [],
   "source": [
    "key_list = list(train_generator.class_indices.keys())\n",
    "val_list = list(train_generator.class_indices.values())"
   ]
  },
  {
   "cell_type": "code",
   "execution_count": 36,
   "metadata": {},
   "outputs": [
    {
     "name": "stdout",
     "output_type": "stream",
     "text": [
      "375/375 [==============================] - 82s 218ms/step\n"
     ]
    }
   ],
   "source": [
    "irv424_val_pred = model_test.predict_generator(val_generator, verbose=1, workers=1, use_multiprocessing=False)"
   ]
  },
  {
   "cell_type": "code",
   "execution_count": 37,
   "metadata": {},
   "outputs": [],
   "source": [
    "irv424_val_pred_mapped = np.zeros((irv424_val_pred.shape))\n",
    "for key, val in zip(key_list,val_list):\n",
    "    irv424_val_pred_mapped[:,int(key)] = irv424_val_pred[:,val]\n",
    "    \n",
    "# np.save('./irv424_val_pred_mapped', irv424_val_pred_mapped)"
   ]
  },
  {
   "cell_type": "code",
   "execution_count": 38,
   "metadata": {},
   "outputs": [
    {
     "name": "stdout",
     "output_type": "stream",
     "text": [
      "887/887 [==============================] - 190s 214ms/step\n"
     ]
    }
   ],
   "source": [
    "irv424_test_pred = model_test.predict_generator(test_generator, verbose=1, workers=1, use_multiprocessing=False)"
   ]
  },
  {
   "cell_type": "code",
   "execution_count": 39,
   "metadata": {},
   "outputs": [],
   "source": [
    "irv424_test_pred_mapped = np.zeros((irv424_test_pred.shape))\n",
    "for key, val in zip(key_list,val_list):\n",
    "    irv424_test_pred_mapped[:,int(key)] = irv424_test_pred[:,val]\n",
    "    \n",
    "# np.save('./irv424_test_pred_mapped', irv424_test_pred_mapped)"
   ]
  }
 ],
 "metadata": {
  "kernelspec": {
   "display_name": "Python [conda env:.conda-sjagpu]",
   "language": "python",
   "name": "conda-env-.conda-sjagpu-py"
  },
  "language_info": {
   "codemirror_mode": {
    "name": "ipython",
    "version": 3
   },
   "file_extension": ".py",
   "mimetype": "text/x-python",
   "name": "python",
   "nbconvert_exporter": "python",
   "pygments_lexer": "ipython3",
   "version": "3.7.6"
  }
 },
 "nbformat": 4,
 "nbformat_minor": 4
}
