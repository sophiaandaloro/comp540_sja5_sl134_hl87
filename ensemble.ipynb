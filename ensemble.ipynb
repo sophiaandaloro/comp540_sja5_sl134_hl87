{
 "cells": [
  {
   "cell_type": "markdown",
   "metadata": {},
   "source": [
    "# Making submission using ensemble averaging with predictions of trained networks\n",
    "\n",
    "--Sophia Andaloro, Shixiao Liang, Hongyi Liu  (Apr 2020)\n",
    "\n",
    "prepared by Shixiao Liang\n",
    "\n",
    "This notebook shows how we take predictions of our 4 tuned IRv4 model and make a final prediction with them using ensemble averaging. Each of these predictions has ~70% top 1 accuracy on validation set and ~85% top 3 accuracy. After they were put together we got a ~89% top 3  accuray, which is the score of our final submission.\n",
    "\n",
    "This notebook reads auxiliary files from ./predictions and produce submission.csv. "
   ]
  },
  {
   "cell_type": "markdown",
   "metadata": {},
   "source": [
    "## Import packages and read info of validation set and test set"
   ]
  },
  {
   "cell_type": "code",
   "execution_count": 1,
   "metadata": {},
   "outputs": [],
   "source": [
    "import matplotlib.pyplot as plt\n",
    "import numpy as np\n",
    "import pandas as pd\n",
    "%matplotlib inline\n",
    "\n",
    "import os\n",
    "from os import listdir\n",
    "from os.path import isfile, join\n",
    "\n",
    "import h5py"
   ]
  },
  {
   "cell_type": "code",
   "execution_count": 2,
   "metadata": {},
   "outputs": [],
   "source": [
    "n_classes =251\n",
    "\n",
    "val_dir = './input/val_set/'\n",
    "val_df = pd.read_csv('./input/val_labels.csv')\n",
    "val_df['path'] = val_df['img_name'].map(lambda x: os.path.join(val_dir,x))\n",
    "val_df['label'] = val_df['label'].astype(str)"
   ]
  },
  {
   "cell_type": "code",
   "execution_count": 3,
   "metadata": {},
   "outputs": [
    {
     "data": {
      "text/html": [
       "<div>\n",
       "<style scoped>\n",
       "    .dataframe tbody tr th:only-of-type {\n",
       "        vertical-align: middle;\n",
       "    }\n",
       "\n",
       "    .dataframe tbody tr th {\n",
       "        vertical-align: top;\n",
       "    }\n",
       "\n",
       "    .dataframe thead th {\n",
       "        text-align: right;\n",
       "    }\n",
       "</style>\n",
       "<table border=\"1\" class=\"dataframe\">\n",
       "  <thead>\n",
       "    <tr style=\"text-align: right;\">\n",
       "      <th></th>\n",
       "      <th>img_name</th>\n",
       "      <th>label</th>\n",
       "    </tr>\n",
       "  </thead>\n",
       "  <tbody>\n",
       "    <tr>\n",
       "      <th>1812</th>\n",
       "      <td>val_000000.jpg</td>\n",
       "      <td>142</td>\n",
       "    </tr>\n",
       "    <tr>\n",
       "      <th>1813</th>\n",
       "      <td>val_000001.jpg</td>\n",
       "      <td>127</td>\n",
       "    </tr>\n",
       "    <tr>\n",
       "      <th>1814</th>\n",
       "      <td>val_000002.jpg</td>\n",
       "      <td>129</td>\n",
       "    </tr>\n",
       "    <tr>\n",
       "      <th>1815</th>\n",
       "      <td>val_000003.jpg</td>\n",
       "      <td>126</td>\n",
       "    </tr>\n",
       "    <tr>\n",
       "      <th>1816</th>\n",
       "      <td>val_000004.jpg</td>\n",
       "      <td>209</td>\n",
       "    </tr>\n",
       "  </tbody>\n",
       "</table>\n",
       "</div>"
      ],
      "text/plain": [
       "            img_name label\n",
       "1812  val_000000.jpg   142\n",
       "1813  val_000001.jpg   127\n",
       "1814  val_000002.jpg   129\n",
       "1815  val_000003.jpg   126\n",
       "1816  val_000004.jpg   209"
      ]
     },
     "execution_count": 3,
     "metadata": {},
     "output_type": "execute_result"
    }
   ],
   "source": [
    "# df must be sorted to the same order as the output of keras image generator\n",
    "val = val_df.sort_values('img_name').drop('path', axis=1)\n",
    "\n",
    "new_val_index = np.arange(val_df.shape[0])\n",
    "\n",
    "val.head()"
   ]
  },
  {
   "cell_type": "code",
   "execution_count": 4,
   "metadata": {},
   "outputs": [
    {
     "data": {
      "text/html": [
       "<div>\n",
       "<style scoped>\n",
       "    .dataframe tbody tr th:only-of-type {\n",
       "        vertical-align: middle;\n",
       "    }\n",
       "\n",
       "    .dataframe tbody tr th {\n",
       "        vertical-align: top;\n",
       "    }\n",
       "\n",
       "    .dataframe thead th {\n",
       "        text-align: right;\n",
       "    }\n",
       "</style>\n",
       "<table border=\"1\" class=\"dataframe\">\n",
       "  <thead>\n",
       "    <tr style=\"text-align: right;\">\n",
       "      <th></th>\n",
       "      <th>img_name</th>\n",
       "    </tr>\n",
       "  </thead>\n",
       "  <tbody>\n",
       "    <tr>\n",
       "      <th>4308</th>\n",
       "      <td>test_000000.jpg</td>\n",
       "    </tr>\n",
       "    <tr>\n",
       "      <th>4309</th>\n",
       "      <td>test_000001.jpg</td>\n",
       "    </tr>\n",
       "    <tr>\n",
       "      <th>4310</th>\n",
       "      <td>test_000002.jpg</td>\n",
       "    </tr>\n",
       "    <tr>\n",
       "      <th>4311</th>\n",
       "      <td>test_000003.jpg</td>\n",
       "    </tr>\n",
       "    <tr>\n",
       "      <th>4312</th>\n",
       "      <td>test_000004.jpg</td>\n",
       "    </tr>\n",
       "  </tbody>\n",
       "</table>\n",
       "</div>"
      ],
      "text/plain": [
       "             img_name\n",
       "4308  test_000000.jpg\n",
       "4309  test_000001.jpg\n",
       "4310  test_000002.jpg\n",
       "4311  test_000003.jpg\n",
       "4312  test_000004.jpg"
      ]
     },
     "execution_count": 4,
     "metadata": {},
     "output_type": "execute_result"
    }
   ],
   "source": [
    "test_dir = './input/test_set/'\n",
    "test_df = pd.read_csv('./input/test_info.csv', header=0,)\n",
    "\n",
    "new_row = pd.DataFrame({'test_024088.jpg': 'test_024088.jpg'}, index=[0])\n",
    "test_df = pd.concat([new_row, test_df]).reset_index(drop = True) \n",
    "test_df.columns = ['img_name']\n",
    "\n",
    "# df must be sorted to the same order as the output of keras image generator\n",
    "test = test_df.sort_values('img_name')\n",
    "test.head()"
   ]
  },
  {
   "cell_type": "markdown",
   "metadata": {},
   "source": [
    "## Read auxiliary predictions"
   ]
  },
  {
   "cell_type": "code",
   "execution_count": 5,
   "metadata": {},
   "outputs": [],
   "source": [
    "irv256_val_pred_mapped = np.load('./predictions/irv256_val_pred_mapped.npy')\n",
    "irv256_test_pred_mapped = np.load('./predictions/irv256_test_pred_mapped.npy')\n",
    "irv299_val_pred_mapped = np.load('./predictions/irv299_val_pred_mapped.npy')\n",
    "irv299_test_pred_mapped = np.load('./predictions/irv299_test_pred_mapped.npy')\n",
    "irv423_val_pred_mapped = np.load('./predictions/irv423_val_pred_mapped.npy')\n",
    "irv423_test_pred_mapped = np.load('./predictions/irv423_test_pred_mapped.npy')\n",
    "irv424_val_pred_mapped = np.load('./predictions/irv424_val_pred_mapped.npy')\n",
    "irv424_test_pred_mapped = np.load('./predictions/irv424_test_pred_mapped.npy')\n",
    "irv256_val_pred_mapped_aug = np.load('./predictions/irv256_val_pred_mapped_aug.npy')\n",
    "irv256_test_pred_mapped_aug = np.load('./predictions/irv256_test_pred_mapped_aug.npy')\n",
    "irv299_val_pred_mapped_aug = np.load('./predictions/irv299_val_pred_mapped_aug.npy')\n",
    "irv299_test_pred_mapped_aug = np.load('./predictions/irv299_test_pred_mapped_aug.npy')\n",
    "irv423_val_pred_mapped_aug = np.load('./predictions/irv423_val_pred_mapped_aug.npy')\n",
    "irv423_test_pred_mapped_aug = np.load('./predictions/irv423_test_pred_mapped_aug.npy')\n",
    "irv424_val_pred_mapped_aug = np.load('./predictions/irv424_val_pred_mapped_aug.npy')\n",
    "irv424_test_pred_mapped_aug = np.load('./predictions/irv424_test_pred_mapped_aug.npy')"
   ]
  },
  {
   "cell_type": "markdown",
   "metadata": {},
   "source": [
    "## Combine the predictions and produce top 3 result"
   ]
  },
  {
   "cell_type": "code",
   "execution_count": 6,
   "metadata": {},
   "outputs": [
    {
     "name": "stdout",
     "output_type": "stream",
     "text": [
      "(11994, 3)\n"
     ]
    },
    {
     "data": {
      "text/plain": [
       "array([ 75, 180, 142])"
      ]
     },
     "execution_count": 6,
     "metadata": {},
     "output_type": "execute_result"
    }
   ],
   "source": [
    "#Produce top 3 result \n",
    "val_top3pred = np.argsort(irv299_val_pred_mapped  + irv256_val_pred_mapped * 1 + irv423_val_pred_mapped + irv424_val_pred_mapped \n",
    "                     + irv299_val_pred_mapped_aug + irv256_val_pred_mapped_aug * 1 + irv423_val_pred_mapped_aug + irv424_val_pred_mapped_aug, axis=1)[:,-3:]\n",
    "\n",
    "print(val_top3pred.shape)\n",
    "val_top3pred[0]"
   ]
  },
  {
   "cell_type": "code",
   "execution_count": 7,
   "metadata": {},
   "outputs": [],
   "source": [
    "#Get label of val set\n",
    "val_label_array = val['label'].astype(int).to_numpy()"
   ]
  },
  {
   "cell_type": "code",
   "execution_count": 8,
   "metadata": {},
   "outputs": [
    {
     "data": {
      "text/plain": [
       "0.8972819743204935"
      ]
     },
     "execution_count": 8,
     "metadata": {},
     "output_type": "execute_result"
    }
   ],
   "source": [
    "#Calculate top 3 accuracy \n",
    "np.sum(val_top3pred[:,2] == val_label_array)/11994 + np.sum(val_top3pred[:,1] == val_label_array)/11994 + np.sum(val_top3pred[:,0] == val_label_array)/11994"
   ]
  },
  {
   "cell_type": "code",
   "execution_count": 9,
   "metadata": {},
   "outputs": [
    {
     "data": {
      "text/plain": [
       "0.7506253126563281"
      ]
     },
     "execution_count": 9,
     "metadata": {},
     "output_type": "execute_result"
    }
   ],
   "source": [
    "#Calculate top 1 accuracy\n",
    "np.sum(val_top3pred[:,2] == val_label_array)/11994"
   ]
  },
  {
   "cell_type": "markdown",
   "metadata": {},
   "source": [
    "## Generate submission file"
   ]
  },
  {
   "cell_type": "code",
   "execution_count": 10,
   "metadata": {},
   "outputs": [],
   "source": [
    "top3preds = np.argsort(irv299_test_pred_mapped  + irv256_test_pred_mapped * 1 + irv423_test_pred_mapped + irv424_test_pred_mapped \n",
    "                     + irv299_test_pred_mapped_aug + irv256_test_pred_mapped_aug * 1 + irv423_test_pred_mapped_aug + irv424_test_pred_mapped_aug, axis=1)[:,-3:] "
   ]
  },
  {
   "cell_type": "code",
   "execution_count": 11,
   "metadata": {},
   "outputs": [],
   "source": [
    "n_test = test.shape[0]\n",
    "new_index = np.arange(n_test)\n",
    "test['new_index']=new_index\n",
    "test['old_index']=test.index\n",
    "\n",
    "test.head()\n",
    "\n",
    "\n",
    "test['labelS']=0\n",
    "# top_n_mapped= unmapped_preds[:,-top_n:]\n",
    "for i, j in enumerate(top3preds):\n",
    "    test.loc[test[test['new_index']==i]['old_index'], 'labelS']=str(top3preds[i,-1]) + ' ' + str(top3preds[i,-2]) + ' ' + str(top3preds[i,-3])"
   ]
  },
  {
   "cell_type": "code",
   "execution_count": 12,
   "metadata": {},
   "outputs": [
    {
     "data": {
      "text/html": [
       "<div>\n",
       "<style scoped>\n",
       "    .dataframe tbody tr th:only-of-type {\n",
       "        vertical-align: middle;\n",
       "    }\n",
       "\n",
       "    .dataframe tbody tr th {\n",
       "        vertical-align: top;\n",
       "    }\n",
       "\n",
       "    .dataframe thead th {\n",
       "        text-align: right;\n",
       "    }\n",
       "</style>\n",
       "<table border=\"1\" class=\"dataframe\">\n",
       "  <thead>\n",
       "    <tr style=\"text-align: right;\">\n",
       "      <th></th>\n",
       "      <th>img_name</th>\n",
       "      <th>new_index</th>\n",
       "      <th>old_index</th>\n",
       "      <th>labelS</th>\n",
       "    </tr>\n",
       "  </thead>\n",
       "  <tbody>\n",
       "    <tr>\n",
       "      <th>0</th>\n",
       "      <td>test_024088.jpg</td>\n",
       "      <td>24069</td>\n",
       "      <td>0</td>\n",
       "      <td>212 218 195</td>\n",
       "    </tr>\n",
       "    <tr>\n",
       "      <th>1</th>\n",
       "      <td>test_024089.jpg</td>\n",
       "      <td>24070</td>\n",
       "      <td>1</td>\n",
       "      <td>51 232 106</td>\n",
       "    </tr>\n",
       "    <tr>\n",
       "      <th>2</th>\n",
       "      <td>test_024090.jpg</td>\n",
       "      <td>24071</td>\n",
       "      <td>2</td>\n",
       "      <td>218 234 130</td>\n",
       "    </tr>\n",
       "    <tr>\n",
       "      <th>3</th>\n",
       "      <td>test_024091.jpg</td>\n",
       "      <td>24072</td>\n",
       "      <td>3</td>\n",
       "      <td>236 31 144</td>\n",
       "    </tr>\n",
       "    <tr>\n",
       "      <th>4</th>\n",
       "      <td>test_024092.jpg</td>\n",
       "      <td>24073</td>\n",
       "      <td>4</td>\n",
       "      <td>231 64 71</td>\n",
       "    </tr>\n",
       "    <tr>\n",
       "      <th>5</th>\n",
       "      <td>test_024093.jpg</td>\n",
       "      <td>24074</td>\n",
       "      <td>5</td>\n",
       "      <td>246 213 28</td>\n",
       "    </tr>\n",
       "    <tr>\n",
       "      <th>6</th>\n",
       "      <td>test_024094.jpg</td>\n",
       "      <td>24075</td>\n",
       "      <td>6</td>\n",
       "      <td>233 33 11</td>\n",
       "    </tr>\n",
       "    <tr>\n",
       "      <th>7</th>\n",
       "      <td>test_024095.jpg</td>\n",
       "      <td>24076</td>\n",
       "      <td>7</td>\n",
       "      <td>171 230 206</td>\n",
       "    </tr>\n",
       "    <tr>\n",
       "      <th>8</th>\n",
       "      <td>test_024096.jpg</td>\n",
       "      <td>24077</td>\n",
       "      <td>8</td>\n",
       "      <td>218 195 197</td>\n",
       "    </tr>\n",
       "    <tr>\n",
       "      <th>9</th>\n",
       "      <td>test_024097.jpg</td>\n",
       "      <td>24078</td>\n",
       "      <td>9</td>\n",
       "      <td>215 93 249</td>\n",
       "    </tr>\n",
       "  </tbody>\n",
       "</table>\n",
       "</div>"
      ],
      "text/plain": [
       "          img_name  new_index  old_index       labelS\n",
       "0  test_024088.jpg      24069          0  212 218 195\n",
       "1  test_024089.jpg      24070          1   51 232 106\n",
       "2  test_024090.jpg      24071          2  218 234 130\n",
       "3  test_024091.jpg      24072          3   236 31 144\n",
       "4  test_024092.jpg      24073          4    231 64 71\n",
       "5  test_024093.jpg      24074          5   246 213 28\n",
       "6  test_024094.jpg      24075          6    233 33 11\n",
       "7  test_024095.jpg      24076          7  171 230 206\n",
       "8  test_024096.jpg      24077          8  218 195 197\n",
       "9  test_024097.jpg      24078          9   215 93 249"
      ]
     },
     "execution_count": 12,
     "metadata": {},
     "output_type": "execute_result"
    }
   ],
   "source": [
    "sub = pd.concat([test_df.drop(labels='img_name', axis=1), test], axis=1, copy=False)# .drop('path', axis=1)\n",
    "sub[0:10]"
   ]
  },
  {
   "cell_type": "code",
   "execution_count": 13,
   "metadata": {},
   "outputs": [],
   "source": [
    "sub.to_csv(\"./submission.csv\", index=False, columns=['img_name', 'labelS'], header=['img_name','label'])"
   ]
  }
 ],
 "metadata": {
  "kernelspec": {
   "display_name": "Python [conda env:.conda-sjagpu]",
   "language": "python",
   "name": "conda-env-.conda-sjagpu-py"
  },
  "language_info": {
   "codemirror_mode": {
    "name": "ipython",
    "version": 3
   },
   "file_extension": ".py",
   "mimetype": "text/x-python",
   "name": "python",
   "nbconvert_exporter": "python",
   "pygments_lexer": "ipython3",
   "version": "3.7.6"
  }
 },
 "nbformat": 4,
 "nbformat_minor": 4
}
